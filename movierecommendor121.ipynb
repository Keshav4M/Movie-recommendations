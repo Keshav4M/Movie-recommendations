{
 "cells": [
  {
   "cell_type": "code",
   "execution_count": 2,
   "metadata": {},
   "outputs": [],
   "source": [
    "import pandas as pd\n",
    "import numpy as np\n",
    "from sklearn.feature_extraction.text import TfidfVectorizer\n",
    "from sklearn.metrics.pairwise import cosine_similarity\n",
    "import pickle"
   ]
  },
  {
   "cell_type": "code",
   "execution_count": 3,
   "metadata": {},
   "outputs": [],
   "source": [
    "movies = pd.read_csv('tmdb_5000_movies.csv/tmdb_5000_movies.csv')\n",
    "credits = pd.read_csv('tmdb_5000_movies.csv/tmdb_5000_credits.csv')\n",
    "\n",
    "movies = movies.merge(credits, on='title')\n",
    "\n",
    "movies = movies[['movie_id', 'genres', 'keywords', 'title', 'overview', 'cast', 'crew']]\n",
    "\n",
    "movies.dropna(inplace=True)"
   ]
  },
  {
   "cell_type": "code",
   "execution_count": 4,
   "metadata": {},
   "outputs": [],
   "source": [
    "import ast\n",
    "\n",
    "\n",
    "def convert(text):\n",
    "    return [i['name'] for i in ast.literal_eval(text)]\n",
    "\n",
    "\n",
    "def convert3(text):\n",
    "    return [i['name'] for i in ast.literal_eval(text)][:3]\n",
    "\n",
    "\n",
    "def fetch_director(text):\n",
    "    return [i['name'] for i in ast.literal_eval(text) if i['job'] == 'Director']"
   ]
  },
  {
   "cell_type": "code",
   "execution_count": 5,
   "metadata": {},
   "outputs": [],
   "source": [
    "\n",
    "movies['genres'] = movies['genres'].apply(convert)\n",
    "movies['keywords'] = movies['keywords'].apply(convert)\n",
    "movies['cast'] = movies['cast'].apply(convert3)\n",
    "movies['crew'] = movies['crew'].apply(fetch_director)\n",
    "\n",
    "movies['cast'] = movies['cast'].apply(lambda x: [actor.replace(\" \", \"\") for actor in x])\n",
    "movies['crew'] = movies['crew'].apply(lambda x: [director.replace(\" \", \"\") for director in x])\n",
    "movies['genres'] = movies['genres'].apply(lambda x: [genre.replace(\" \", \"\") for genre in x])\n",
    "movies['keywords'] = movies['keywords'].apply(lambda x: [keyword.replace(\" \", \"\") for keyword in x])\n",
    "\n",
    "movies['overview'] = movies['overview'].apply(lambda x: x.split())\n",
    "\n",
    "movies['tags'] = movies['overview'] + movies['genres'] + movies['keywords'] + movies['cast'] + movies['crew']\n",
    "\n",
    "new = movies.drop(columns=['overview', 'genres', 'keywords', 'cast', 'crew'])\n",
    "\n",
    "new['tags'] = new['tags'].apply(lambda x: \" \".join(x))"
   ]
  },
  {
   "cell_type": "code",
   "execution_count": 6,
   "metadata": {},
   "outputs": [],
   "source": [
    "\n",
    "# Use TfidfVectorizer instead of CountVectorizer\n",
    "tfidf = TfidfVectorizer(max_features=5000, stop_words='english')\n",
    "vector = tfidf.fit_transform(new['tags']).toarray()\n",
    "\n",
    "# Use TfidfVectorizer for vectorization\n",
    "similarity = cosine_similarity(vector)\n",
    "\n",
    "# Save the updated data and similarity matrix\n",
    "pickle.dump(new, open('movie_list.pkl', 'wb'))\n",
    "pickle.dump(similarity, open('similarity.pkl', 'wb'))\n",
    "\n",
    "\n",
    "def recommend(movie, n=5):\n",
    "    index = new[new['title'] == movie].index[0]\n",
    "    distances = sorted(list(enumerate(similarity[index])), reverse=True, key=lambda x: x[1])\n",
    "    recommended_movies = [new.iloc[i[0]]['title'] for i in distances[1:n + 1]]\n",
    "    return recommended_movies"
   ]
  },
  {
   "cell_type": "code",
   "execution_count": 7,
   "metadata": {},
   "outputs": [
    {
     "name": "stdout",
     "output_type": "stream",
     "text": [
      "['The Dark Knight', 'The Dark Knight Rises', 'Batman', 'Batman', 'Batman Returns']\n"
     ]
    }
   ],
   "source": [
    "# Example usage\n",
    "recommendations = recommend('Batman Begins')\n",
    "print(recommendations)"
   ]
  },
  {
   "cell_type": "code",
   "execution_count": 8,
   "metadata": {},
   "outputs": [],
   "source": [
    "pickle.dump(new,open('movie_list.pkl','wb'))\n",
    "pickle.dump(similarity,open('similarity.pkl','wb'))"
   ]
  }
 ],
 "metadata": {
  "kernelspec": {
   "display_name": "Python 3",
   "language": "python",
   "name": "python3"
  },
  "language_info": {
   "codemirror_mode": {
    "name": "ipython",
    "version": 3
   },
   "file_extension": ".py",
   "mimetype": "text/x-python",
   "name": "python",
   "nbconvert_exporter": "python",
   "pygments_lexer": "ipython3",
   "version": "3.12.1"
  }
 },
 "nbformat": 4,
 "nbformat_minor": 2
}
